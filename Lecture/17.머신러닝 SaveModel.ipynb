{
 "cells": [
  {
   "cell_type": "markdown",
   "id": "f4156f34",
   "metadata": {},
   "source": [
    "#### iris.csv를 학습하여 모델을 저장한다.     \n",
    "- svm : svm_iris.h5    \n",
    "- randomforest : rf_iris.h5     \n",
    "- knn : knn_iris.h5   \n",
    "\n",
    "#### 저장된 모델을 불러서 예측하기\n",
    "- SepalLength : 5.1\n",
    "- SepalWidth : 3.0   \n",
    "- PetalLength : 1.3\n",
    "- Petal Width : 0.2"
   ]
  },
  {
   "cell_type": "markdown",
   "id": "b12034bd",
   "metadata": {},
   "source": []
  }
 ],
 "metadata": {
  "language_info": {
   "name": "python"
  }
 },
 "nbformat": 4,
 "nbformat_minor": 5
}
