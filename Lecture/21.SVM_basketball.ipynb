{
 "cells": [
  {
   "cell_type": "markdown",
   "id": "8166a91f",
   "metadata": {},
   "source": [
    "### SVM(Support Vector Machine)\n",
    "- 데이터를 분류하는 결정 경계선을 찾아 분류하는 것 \n",
    "- Support Vector는 이 결정 경계선과 가장 근접한 데이터 포인트\n",
    "- Margin은 Suppoer Vector와 결정 경계선의 거리를 의미 \n",
    "- svm의 목표는 이 margin을 최대로 하는 결정 경계선을 찾는 것\n",
    "- margin이 클수록 새로운 데이터에 대해 안정적으로 분류할 가능성이 높다.  \n",
    "\n",
    "#### 비용(cost)\n",
    "- 약간의 오류를 허용하여 margin을 높힌다. \n",
    "- 비용이 낮을수록 margin은 최대한 높이고 학습 에러율을 증가시키는 방향으로 경계선이 생성 \n",
    "- 비용이 높을수록 margin은 낮아지고 학습 에러율을 감소 시키는 방향으로 경계선이 생성. \n",
    "\n",
    "#### 결정 경계선\n",
    "- 선형 SVM : 커널을 사용하지 않고 데이터를 분류, 비용을 조절해서 마진의 크기를 결정\n",
    "- 커널 트릭 : 선형분리가 주어진 차원에서 불가능할 경우 , 비용과 gamma를 조절해서 마진의 크기를 결정 \n"
   ]
  },
  {
   "cell_type": "code",
   "execution_count": 1,
   "id": "34cbaba9",
   "metadata": {},
   "outputs": [],
   "source": [
    "import pandas as pd"
   ]
  },
  {
   "cell_type": "code",
   "execution_count": 3,
   "id": "49232ba9",
   "metadata": {},
   "outputs": [],
   "source": [
    "train = pd.read_csv(\"../Data/baseketball_train.csv\")\n",
    "test = pd.read_csv(\"../Data/baseketball_test.csv\")"
   ]
  },
  {
   "cell_type": "markdown",
   "id": "eefedda9",
   "metadata": {},
   "source": [
    "#### SVM의 최적의 파라미터 찾기\n",
    "SVM의 파라미터는 2가지가 있음     \n",
    "1. C : 비용(Cost), 결정 경계선의 마진을 결정하는 파라미터 입니다.       \n",
    "2. gamma : 커널의 데이터포인트의 표준편차를 결정하는 파라미터.     \n",
    "결과적으로 C가 클수록 결정 경계선과 서포트벡터의 마진이 작아진다.    \n",
    "결과적으로 gamma가 클수록 결정경계선이 데이터포인트와 가까워 집니다. \n"
   ]
  },
  {
   "cell_type": "markdown",
   "id": "c158507a",
   "metadata": {},
   "source": [
    "#### GridSearch를 이용하여 최적의 C와 gamma 구하기"
   ]
  },
  {
   "cell_type": "code",
   "execution_count": 4,
   "id": "d369799a",
   "metadata": {},
   "outputs": [],
   "source": [
    "from sklearn.model_selection import GridSearchCV\n",
    "from sklearn.metrics import accuracy_score\n",
    "from sklearn.svm import SVC"
   ]
  },
  {
   "cell_type": "code",
   "execution_count": 5,
   "id": "f6c4557e",
   "metadata": {},
   "outputs": [],
   "source": [
    "def svc_param_selection(train_data, train_target, nfolds):\n",
    "    svc_parameters = [\n",
    "                {'kernel':['rbf'], \n",
    "                # kernel이 linear이면 C parameter만,\n",
    "                # kernel이 rbf이면 C와 Gamma를 모두 사용\n",
    "                'gamma' : [0.00001, 0.0001, 0.001, 0.01, 0.1, 1],\n",
    "                'C' : [0.01, 0.1, 1, 10, 100, 1000]\n",
    "                }\n",
    "    ]\n",
    "    clf = GridSearchCV(\n",
    "            SVC(),\n",
    "            svc_parameters,\n",
    "            cv=nfolds\n",
    "    )\n",
    "    clf.fit(train_data, train_target)\n",
    "    print(clf.best_params_)\n",
    "    return clf"
   ]
  },
  {
   "cell_type": "code",
   "execution_count": 6,
   "id": "b4fc38d0",
   "metadata": {},
   "outputs": [
    {
     "name": "stdout",
     "output_type": "stream",
     "text": [
      "{'C': 1, 'gamma': 1, 'kernel': 'rbf'}\n"
     ]
    }
   ],
   "source": [
    "train_data = train[['3P', 'BLK']]\n",
    "train_target = train['Pos']\n",
    "clf = svc_param_selection(train_data, train_target, 10)"
   ]
  },
  {
   "cell_type": "code",
   "execution_count": 7,
   "id": "806e8657",
   "metadata": {},
   "outputs": [
    {
     "data": {
      "text/plain": [
       "0.95"
      ]
     },
     "execution_count": 7,
     "metadata": {},
     "output_type": "execute_result"
    }
   ],
   "source": [
    "test_data = test[['3P', 'BLK']]\n",
    "test_target = test['Pos']\n",
    "pred = clf.predict(test_data)\n",
    "accuracy_score(test_target, pred)"
   ]
  },
  {
   "cell_type": "code",
   "execution_count": null,
   "id": "01d0e431",
   "metadata": {},
   "outputs": [],
   "source": []
  }
 ],
 "metadata": {
  "kernelspec": {
   "display_name": "base",
   "language": "python",
   "name": "python3"
  },
  "language_info": {
   "codemirror_mode": {
    "name": "ipython",
    "version": 3
   },
   "file_extension": ".py",
   "mimetype": "text/x-python",
   "name": "python",
   "nbconvert_exporter": "python",
   "pygments_lexer": "ipython3",
   "version": "3.12.7"
  }
 },
 "nbformat": 4,
 "nbformat_minor": 5
}
