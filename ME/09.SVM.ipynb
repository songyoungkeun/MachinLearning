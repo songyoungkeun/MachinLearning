{
 "cells": [
  {
   "cell_type": "code",
   "execution_count": null,
   "id": "4f48147a",
   "metadata": {},
   "outputs": [],
   "source": [
    "### SVM(Support Vector Machine)\n",
    "# 딥러닝, 선형회귀 나오기전 최고의 모델 (금융계에서 주로 )\n",
    "# 선을 구성하는 매개변수를 조정해서 요소들을 구분하는 선을 찾고 이를 기반으로 패턴을 인식\n",
    "# 패턴들과의 거리(Margin)을 최대로 만드는 것이 가장 좋은 결과를 얻음"
   ]
  },
  {
   "cell_type": "code",
   "execution_count": null,
   "id": "db3adeef",
   "metadata": {},
   "outputs": [],
   "source": [
    "### SVM을 활용한 바만도(BMI) 측정 예측\n",
    "# BMI = 몸무게(Kg) / 신장(m)*신장(m)\n",
    "# BMI가 18.5이상 25미만일때 표준 몸무게"
   ]
  },
  {
   "cell_type": "code",
   "execution_count": null,
   "id": "dc394768",
   "metadata": {},
   "outputs": [],
   "source": [
    "# BMI Data 생성\n",
    "# 데이터 획득을 위해 무작위로 2만명 데이터를 생성\n",
    "# 키(cm), 몸무게(kg), Target( 저체중(thin),정상체중(Normal), 비만(fat))"
   ]
  },
  {
   "cell_type": "code",
   "execution_count": 1,
   "id": "87f1e0db",
   "metadata": {},
   "outputs": [],
   "source": [
    "import numpy as np\n",
    "np.random.seed(42)"
   ]
  },
  {
   "cell_type": "code",
   "execution_count": null,
   "id": "0776746f",
   "metadata": {},
   "outputs": [],
   "source": []
  }
 ],
 "metadata": {
  "kernelspec": {
   "display_name": "base",
   "language": "python",
   "name": "python3"
  },
  "language_info": {
   "codemirror_mode": {
    "name": "ipython",
    "version": 3
   },
   "file_extension": ".py",
   "mimetype": "text/x-python",
   "name": "python",
   "nbconvert_exporter": "python",
   "pygments_lexer": "ipython3",
   "version": "3.12.7"
  }
 },
 "nbformat": 4,
 "nbformat_minor": 5
}
