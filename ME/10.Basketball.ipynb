{
 "cells": [
  {
   "cell_type": "code",
   "execution_count": 7,
   "id": "482d0e74",
   "metadata": {},
   "outputs": [
    {
     "data": {
      "text/html": [
       "<div>\n",
       "<style scoped>\n",
       "    .dataframe tbody tr th:only-of-type {\n",
       "        vertical-align: middle;\n",
       "    }\n",
       "\n",
       "    .dataframe tbody tr th {\n",
       "        vertical-align: top;\n",
       "    }\n",
       "\n",
       "    .dataframe thead th {\n",
       "        text-align: right;\n",
       "    }\n",
       "</style>\n",
       "<table border=\"1\" class=\"dataframe\">\n",
       "  <thead>\n",
       "    <tr style=\"text-align: right;\">\n",
       "      <th></th>\n",
       "      <th>Player</th>\n",
       "      <th>Pos</th>\n",
       "      <th>3P</th>\n",
       "      <th>2P</th>\n",
       "      <th>TRB</th>\n",
       "      <th>AST</th>\n",
       "      <th>STL</th>\n",
       "      <th>BLK</th>\n",
       "    </tr>\n",
       "  </thead>\n",
       "  <tbody>\n",
       "    <tr>\n",
       "      <th>0</th>\n",
       "      <td>Alex Abrines</td>\n",
       "      <td>SG</td>\n",
       "      <td>1.4</td>\n",
       "      <td>0.6</td>\n",
       "      <td>1.3</td>\n",
       "      <td>0.6</td>\n",
       "      <td>0.5</td>\n",
       "      <td>0.1</td>\n",
       "    </tr>\n",
       "    <tr>\n",
       "      <th>1</th>\n",
       "      <td>Steven Adams</td>\n",
       "      <td>C</td>\n",
       "      <td>0.0</td>\n",
       "      <td>4.7</td>\n",
       "      <td>7.7</td>\n",
       "      <td>1.1</td>\n",
       "      <td>1.1</td>\n",
       "      <td>1.0</td>\n",
       "    </tr>\n",
       "    <tr>\n",
       "      <th>2</th>\n",
       "      <td>Alexis Ajinca</td>\n",
       "      <td>C</td>\n",
       "      <td>0.0</td>\n",
       "      <td>2.3</td>\n",
       "      <td>4.5</td>\n",
       "      <td>0.3</td>\n",
       "      <td>0.5</td>\n",
       "      <td>0.6</td>\n",
       "    </tr>\n",
       "    <tr>\n",
       "      <th>3</th>\n",
       "      <td>Chris Andersen</td>\n",
       "      <td>C</td>\n",
       "      <td>0.0</td>\n",
       "      <td>0.8</td>\n",
       "      <td>2.6</td>\n",
       "      <td>0.4</td>\n",
       "      <td>0.4</td>\n",
       "      <td>0.6</td>\n",
       "    </tr>\n",
       "    <tr>\n",
       "      <th>4</th>\n",
       "      <td>Will Barton</td>\n",
       "      <td>SG</td>\n",
       "      <td>1.5</td>\n",
       "      <td>3.5</td>\n",
       "      <td>4.3</td>\n",
       "      <td>3.4</td>\n",
       "      <td>0.8</td>\n",
       "      <td>0.5</td>\n",
       "    </tr>\n",
       "  </tbody>\n",
       "</table>\n",
       "</div>"
      ],
      "text/plain": [
       "           Player Pos   3P   2P  TRB  AST  STL  BLK\n",
       "0    Alex Abrines  SG  1.4  0.6  1.3  0.6  0.5  0.1\n",
       "1    Steven Adams   C  0.0  4.7  7.7  1.1  1.1  1.0\n",
       "2   Alexis Ajinca   C  0.0  2.3  4.5  0.3  0.5  0.6\n",
       "3  Chris Andersen   C  0.0  0.8  2.6  0.4  0.4  0.6\n",
       "4     Will Barton  SG  1.5  3.5  4.3  3.4  0.8  0.5"
      ]
     },
     "execution_count": 7,
     "metadata": {},
     "output_type": "execute_result"
    }
   ],
   "source": [
    "### 농구 선수의 게임 데이터를 활용한포지션 예측을위한데이터 정제\n",
    "#NBA농구 선수들의 게임 기록을 데이터로사용해서 특정 농구 선수의 포지션을 예측\n",
    "\n",
    "import pandas as pd\n",
    "df = pd.read_csv(\"../Data/basketball.csv\")\n",
    "df.head()\n"
   ]
  },
  {
   "cell_type": "code",
   "execution_count": 6,
   "id": "d7d0641b",
   "metadata": {},
   "outputs": [
    {
     "name": "stdout",
     "output_type": "stream",
     "text": [
      "<class 'pandas.core.frame.DataFrame'>\n",
      "RangeIndex: 100 entries, 0 to 99\n",
      "Data columns (total 8 columns):\n",
      " #   Column  Non-Null Count  Dtype  \n",
      "---  ------  --------------  -----  \n",
      " 0   Player  100 non-null    object \n",
      " 1   Pos     100 non-null    object \n",
      " 2   3P      100 non-null    float64\n",
      " 3   2P      100 non-null    float64\n",
      " 4   TRB     100 non-null    float64\n",
      " 5   AST     100 non-null    float64\n",
      " 6   STL     100 non-null    float64\n",
      " 7   BLK     100 non-null    float64\n",
      "dtypes: float64(6), object(2)\n",
      "memory usage: 6.4+ KB\n"
     ]
    }
   ],
   "source": [
    "df.info()"
   ]
  },
  {
   "cell_type": "code",
   "execution_count": null,
   "id": "df02f853",
   "metadata": {},
   "outputs": [],
   "source": [
    "# Column Description\n",
    "# - Player : \n",
    "# - Position(SG:shooting Guard, C: Center)\n",
    "# - 3P : 한 경기당 평균 3점슛 성공 횟수\n",
    "# - 2P : 한 경기당 평균 2점슛 성공 횟수\n",
    "# - TRB : 한 경기당 평균 리바운드 성공 횟수\n",
    "# - AST : 한 경기당 평균 어시스트 성공 횟수\n",
    "# - STL : 한 경기당 평균 스틸 성공 횟수\n",
    "# - BLK : 한 경기당 평균 블라킹 성공 횟수\n"
   ]
  },
  {
   "cell_type": "code",
   "execution_count": null,
   "id": "f31fe2b6",
   "metadata": {},
   "outputs": [
    {
     "data": {
      "text/plain": [
       "array(['SG', 'C'], dtype=object)"
      ]
     },
     "execution_count": 8,
     "metadata": {},
     "output_type": "execute_result"
    }
   ],
   "source": [
    "# 포지션 종류 파악\n",
    "df.Pos.unique()"
   ]
  },
  {
   "cell_type": "code",
   "execution_count": 9,
   "id": "d1fb347a",
   "metadata": {},
   "outputs": [
    {
     "data": {
      "text/plain": [
       "Pos\n",
       "SG    50\n",
       "C     50\n",
       "Name: count, dtype: int64"
      ]
     },
     "execution_count": 9,
     "metadata": {},
     "output_type": "execute_result"
    }
   ],
   "source": [
    "# 포지션별 갯수 파악\n",
    "df.Pos.value_counts()"
   ]
  },
  {
   "cell_type": "code",
   "execution_count": null,
   "id": "067dffaf",
   "metadata": {},
   "outputs": [],
   "source": [
    "### 포지션별 내용\n",
    "# C: Center : 포스트 근처에서 슛을 블로킹하고, 리바운드 하며 바낕으로 쳐내며, 골대 근처에서\n",
    "#             2점슛으로 득점을 하기도 한다.\n",
    "# SG:shooting Guard : 코트내에서 3점슛등 장거리 슛을 해서 점수를 얻는 역할"
   ]
  },
  {
   "cell_type": "code",
   "execution_count": 10,
   "id": "812c491a",
   "metadata": {},
   "outputs": [
    {
     "data": {
      "text/html": [
       "<div>\n",
       "<style scoped>\n",
       "    .dataframe tbody tr th:only-of-type {\n",
       "        vertical-align: middle;\n",
       "    }\n",
       "\n",
       "    .dataframe tbody tr th {\n",
       "        vertical-align: top;\n",
       "    }\n",
       "\n",
       "    .dataframe thead th {\n",
       "        text-align: right;\n",
       "    }\n",
       "</style>\n",
       "<table border=\"1\" class=\"dataframe\">\n",
       "  <thead>\n",
       "    <tr style=\"text-align: right;\">\n",
       "      <th></th>\n",
       "      <th>Player</th>\n",
       "      <th>Pos</th>\n",
       "      <th>3P</th>\n",
       "      <th>2P</th>\n",
       "      <th>TRB</th>\n",
       "      <th>AST</th>\n",
       "      <th>STL</th>\n",
       "      <th>BLK</th>\n",
       "    </tr>\n",
       "  </thead>\n",
       "  <tbody>\n",
       "    <tr>\n",
       "      <th>0</th>\n",
       "      <td>Alex Abrines</td>\n",
       "      <td>SG</td>\n",
       "      <td>1.4</td>\n",
       "      <td>0.6</td>\n",
       "      <td>1.3</td>\n",
       "      <td>0.6</td>\n",
       "      <td>0.5</td>\n",
       "      <td>0.1</td>\n",
       "    </tr>\n",
       "    <tr>\n",
       "      <th>1</th>\n",
       "      <td>Steven Adams</td>\n",
       "      <td>C</td>\n",
       "      <td>0.0</td>\n",
       "      <td>4.7</td>\n",
       "      <td>7.7</td>\n",
       "      <td>1.1</td>\n",
       "      <td>1.1</td>\n",
       "      <td>1.0</td>\n",
       "    </tr>\n",
       "    <tr>\n",
       "      <th>2</th>\n",
       "      <td>Alexis Ajinca</td>\n",
       "      <td>C</td>\n",
       "      <td>0.0</td>\n",
       "      <td>2.3</td>\n",
       "      <td>4.5</td>\n",
       "      <td>0.3</td>\n",
       "      <td>0.5</td>\n",
       "      <td>0.6</td>\n",
       "    </tr>\n",
       "    <tr>\n",
       "      <th>3</th>\n",
       "      <td>Chris Andersen</td>\n",
       "      <td>C</td>\n",
       "      <td>0.0</td>\n",
       "      <td>0.8</td>\n",
       "      <td>2.6</td>\n",
       "      <td>0.4</td>\n",
       "      <td>0.4</td>\n",
       "      <td>0.6</td>\n",
       "    </tr>\n",
       "    <tr>\n",
       "      <th>4</th>\n",
       "      <td>Will Barton</td>\n",
       "      <td>SG</td>\n",
       "      <td>1.5</td>\n",
       "      <td>3.5</td>\n",
       "      <td>4.3</td>\n",
       "      <td>3.4</td>\n",
       "      <td>0.8</td>\n",
       "      <td>0.5</td>\n",
       "    </tr>\n",
       "  </tbody>\n",
       "</table>\n",
       "</div>"
      ],
      "text/plain": [
       "           Player Pos   3P   2P  TRB  AST  STL  BLK\n",
       "0    Alex Abrines  SG  1.4  0.6  1.3  0.6  0.5  0.1\n",
       "1    Steven Adams   C  0.0  4.7  7.7  1.1  1.1  1.0\n",
       "2   Alexis Ajinca   C  0.0  2.3  4.5  0.3  0.5  0.6\n",
       "3  Chris Andersen   C  0.0  0.8  2.6  0.4  0.4  0.6\n",
       "4     Will Barton  SG  1.5  3.5  4.3  3.4  0.8  0.5"
      ]
     },
     "execution_count": 10,
     "metadata": {},
     "output_type": "execute_result"
    }
   ],
   "source": [
    "df.head()"
   ]
  },
  {
   "cell_type": "code",
   "execution_count": 13,
   "id": "65700b87",
   "metadata": {},
   "outputs": [],
   "source": [
    "### 데이터 시각화를 통한 EDA(탐색적 데이터 분석 )실시\n",
    "# 데이터의 특징을 바탕으로 한 공간에 시각화함으로써 \n",
    "# 머신러닝 학습에 필요한 특징과 불필요한 특징을 구분\n",
    "# !pip install koreanize-matplotlib\n",
    "import matplotlib.pyplot as plt\n",
    "import koreanize_matplotlib\n",
    "import seaborn as sns"
   ]
  },
  {
   "cell_type": "code",
   "execution_count": null,
   "id": "e4387872",
   "metadata": {},
   "outputs": [],
   "source": []
  },
  {
   "cell_type": "code",
   "execution_count": null,
   "id": "b8d8d187",
   "metadata": {},
   "outputs": [],
   "source": []
  }
 ],
 "metadata": {
  "kernelspec": {
   "display_name": "base",
   "language": "python",
   "name": "python3"
  },
  "language_info": {
   "codemirror_mode": {
    "name": "ipython",
    "version": 3
   },
   "file_extension": ".py",
   "mimetype": "text/x-python",
   "name": "python",
   "nbconvert_exporter": "python",
   "pygments_lexer": "ipython3",
   "version": "3.12.7"
  }
 },
 "nbformat": 4,
 "nbformat_minor": 5
}
