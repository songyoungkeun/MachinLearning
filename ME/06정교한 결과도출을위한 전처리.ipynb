{
 "cells": [
  {
   "cell_type": "code",
   "execution_count": 1,
   "id": "d737c859",
   "metadata": {},
   "outputs": [],
   "source": [
    "import pandas as pd\n",
    "fruits = pd.read_csv(\"../Data/fruits.csv\")"
   ]
  },
  {
   "cell_type": "code",
   "execution_count": null,
   "id": "96818912",
   "metadata": {},
   "outputs": [],
   "source": [
    "# Feature data 와 Target data를 numpy array로 변경\n"
   ]
  },
  {
   "cell_type": "code",
   "execution_count": null,
   "id": "2a9dd6db",
   "metadata": {},
   "outputs": [],
   "source": []
  }
 ],
 "metadata": {
  "kernelspec": {
   "display_name": "base",
   "language": "python",
   "name": "python3"
  },
  "language_info": {
   "codemirror_mode": {
    "name": "ipython",
    "version": 3
   },
   "file_extension": ".py",
   "mimetype": "text/x-python",
   "name": "python",
   "nbconvert_exporter": "python",
   "pygments_lexer": "ipython3",
   "version": "3.12.7"
  }
 },
 "nbformat": 4,
 "nbformat_minor": 5
}
